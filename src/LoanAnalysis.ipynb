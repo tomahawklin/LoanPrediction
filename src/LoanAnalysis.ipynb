{
 "cells": [
  {
   "cell_type": "code",
   "execution_count": 39,
   "metadata": {},
   "outputs": [],
   "source": [
    "import pandas as pd\n",
    "from collections import Counter\n",
    "import numpy as np\n",
    "import matplotlib.pyplot as plt\n",
    "%matplotlib inline"
   ]
  },
  {
   "cell_type": "markdown",
   "metadata": {},
   "source": [
    "# Data descriptive analysis"
   ]
  },
  {
   "cell_type": "code",
   "execution_count": 97,
   "metadata": {},
   "outputs": [
    {
     "name": "stderr",
     "output_type": "stream",
     "text": [
      "/Users/lin/anaconda3/lib/python3.6/site-packages/IPython/core/interactiveshell.py:2698: DtypeWarning: Columns (17) have mixed types. Specify dtype option on import or set low_memory=False.\n",
      "  interactivity=interactivity, compiler=compiler, result=result)\n"
     ]
    }
   ],
   "source": [
    "data_dir = '../data/'\n",
    "data = pd.read_csv(data_dir + 'data.csv', parse_dates = ['issue_d', 'earliest_cr_line', 'last_pymnt_d', 'next_pymnt_d', 'last_credit_pull_d'])"
   ]
  },
  {
   "cell_type": "code",
   "execution_count": 8,
   "metadata": {},
   "outputs": [
    {
     "data": {
      "text/plain": [
       "Counter({'Charged Off': 154055,\n",
       "         'Default': 225,\n",
       "         'Fully Paid': 601936,\n",
       "         'In Grace Period': 14984,\n",
       "         'Late (16-30 days)': 6684,\n",
       "         'Late (31-120 days)': 24782})"
      ]
     },
     "execution_count": 8,
     "metadata": {},
     "output_type": "execute_result"
    }
   ],
   "source": [
    "Counter(data.loan_status)"
   ]
  },
  {
   "cell_type": "code",
   "execution_count": 18,
   "metadata": {},
   "outputs": [
    {
     "data": {
      "text/plain": [
       "(array([   3911.,    7944.,   13241.,   26536.,   59031.,  107673.,\n",
       "         150326.,  123446.,   79574.,   30254.]),\n",
       " array([ 733439. ,  733752.4,  734065.8,  734379.2,  734692.6,  735006. ,\n",
       "         735319.4,  735632.8,  735946.2,  736259.6,  736573. ]),\n",
       " <a list of 10 Patch objects>)"
      ]
     },
     "execution_count": 18,
     "metadata": {},
     "output_type": "execute_result"
    },
    {
     "data": {
      "image/png": "[encoded data removed]",
      "text/plain": [
       "<matplotlib.figure.Figure at 0x1172d1278>"
      ]
     },
     "metadata": {},
     "output_type": "display_data"
    }
   ],
   "source": [
    "paid_dates = data[data.loan_status == 'Fully Paid'].issue_d.tolist()\n",
    "plt.hist(paid_dates)"
   ]
  },
  {
   "cell_type": "code",
   "execution_count": 19,
   "metadata": {},
   "outputs": [
    {
     "data": {
      "text/plain": [
       "(array([   566.,   1202.,   2186.,   5298.,  11251.,  21127.,  38723.,\n",
       "         44636.,  25968.,   3098.]),\n",
       " array([ 733439. ,  733752.4,  734065.8,  734379.2,  734692.6,  735006. ,\n",
       "         735319.4,  735632.8,  735946.2,  736259.6,  736573. ]),\n",
       " <a list of 10 Patch objects>)"
      ]
     },
     "execution_count": 19,
     "metadata": {},
     "output_type": "execute_result"
    },
    {
     "data": {
      "image/png": "[encoded data removed]",
      "text/plain": [
       "<matplotlib.figure.Figure at 0x115b13d30>"
      ]
     },
     "metadata": {},
     "output_type": "display_data"
    }
   ],
   "source": [
    "charged_dates = data[data.loan_status == 'Charged Off'].issue_d.tolist()\n",
    "plt.hist(charged_dates)"
   ]
  },
  {
   "cell_type": "code",
   "execution_count": 20,
   "metadata": {},
   "outputs": [
    {
     "data": {
      "text/plain": [
       "(array([  2.,   2.,   9.,  15.,  29.,  49.,  43.,  22.,  39.,  15.]),\n",
       " array([ 734959. ,  735111.2,  735263.4,  735415.6,  735567.8,  735720. ,\n",
       "         735872.2,  736024.4,  736176.6,  736328.8,  736481. ]),\n",
       " <a list of 10 Patch objects>)"
      ]
     },
     "execution_count": 20,
     "metadata": {},
     "output_type": "execute_result"
    },
    {
     "data": {
      "image/png": "[encoded data removed]",
      "text/plain": [
       "<matplotlib.figure.Figure at 0x10456d198>"
      ]
     },
     "metadata": {},
     "output_type": "display_data"
    }
   ],
   "source": [
    "default_dates = data[data.loan_status == 'Default'].issue_d.tolist()\n",
    "plt.hist(default_dates)"
   ]
  },
  {
   "cell_type": "code",
   "execution_count": 21,
   "metadata": {},
   "outputs": [
    {
     "data": {
      "text/plain": [
       "(array([   62.,   191.,   346.,   814.,  2518.,  4815.,  7464.,  5863.,\n",
       "         6668.,  2725.]),\n",
       " array([ 734747. ,  734929.6,  735112.2,  735294.8,  735477.4,  735660. ,\n",
       "         735842.6,  736025.2,  736207.8,  736390.4,  736573. ]),\n",
       " <a list of 10 Patch objects>)"
      ]
     },
     "execution_count": 21,
     "metadata": {},
     "output_type": "execute_result"
    },
    {
     "data": {
      "image/png": "[encoded data removed]",
      "text/plain": [
       "<matplotlib.figure.Figure at 0x10e7dd898>"
      ]
     },
     "metadata": {},
     "output_type": "display_data"
    }
   ],
   "source": [
    "late_dates = data[data.loan_status.str.contains('Late')].issue_d.tolist()\n",
    "plt.hist(late_dates)"
   ]
  },
  {
   "cell_type": "code",
   "execution_count": 22,
   "metadata": {},
   "outputs": [
    {
     "data": {
      "text/plain": [
       "(array([   48.,    90.,   187.,   304.,  1358.,  2059.,  3154.,  2743.,\n",
       "         2722.,  2319.]),\n",
       " array([ 734777. ,  734956.6,  735136.2,  735315.8,  735495.4,  735675. ,\n",
       "         735854.6,  736034.2,  736213.8,  736393.4,  736573. ]),\n",
       " <a list of 10 Patch objects>)"
      ]
     },
     "execution_count": 22,
     "metadata": {},
     "output_type": "execute_result"
    },
    {
     "data": {
      "image/png": "[encoded data removed]",
      "text/plain": [
       "<matplotlib.figure.Figure at 0x110a9ba58>"
      ]
     },
     "metadata": {},
     "output_type": "display_data"
    }
   ],
   "source": [
    "grace_dates = data[data.loan_status.str.contains('Grace')].issue_d.tolist()\n",
    "plt.hist(grace_dates)"
   ]
  },
  {
   "cell_type": "code",
   "execution_count": 23,
   "metadata": {},
   "outputs": [],
   "source": [
    "data['return'] = (data.total_pymnt - data.funded_amnt) / data.funded_amnt"
   ]
  },
  {
   "cell_type": "code",
   "execution_count": 28,
   "metadata": {},
   "outputs": [
    {
     "data": {
      "text/plain": [
       "(array([ 142626.,  207189.,  143803.,   66580.,   24203.,    9584.,\n",
       "           4229.,    2309.,    1103.,     310.]),\n",
       " array([ 0.        ,  0.07598192,  0.15196383,  0.22794575,  0.30392767,\n",
       "         0.37990958,  0.4558915 ,  0.53187342,  0.60785534,  0.68383725,\n",
       "         0.75981917]),\n",
       " <a list of 10 Patch objects>)"
      ]
     },
     "execution_count": 28,
     "metadata": {},
     "output_type": "execute_result"
    },
    {
     "data": {
      "image/png": "[encoded data removed]",
      "text/plain": [
       "<matplotlib.figure.Figure at 0x110a7c9b0>"
      ]
     },
     "metadata": {},
     "output_type": "display_data"
    }
   ],
   "source": [
    "paid_rets = data[data.loan_status == 'Fully Paid']['return'].tolist()\n",
    "plt.hist(paid_rets)"
   ]
  },
  {
   "cell_type": "code",
   "execution_count": 29,
   "metadata": {},
   "outputs": [
    {
     "data": {
      "text/plain": [
       "(array([  2.26480000e+04,   5.18230000e+04,   4.07840000e+04,\n",
       "          2.34530000e+04,   1.14740000e+04,   3.54100000e+03,\n",
       "          3.06000000e+02,   2.50000000e+01,   0.00000000e+00,\n",
       "          1.00000000e+00]),\n",
       " array([-1.     , -0.78297, -0.56594, -0.34891, -0.13188,  0.08515,\n",
       "         0.30218,  0.51921,  0.73624,  0.95327,  1.1703 ]),\n",
       " <a list of 10 Patch objects>)"
      ]
     },
     "execution_count": 29,
     "metadata": {},
     "output_type": "execute_result"
    },
    {
     "data": {
      "image/png": "[encoded data removed]",
      "text/plain": [
       "<matplotlib.figure.Figure at 0x11281bb00>"
      ]
     },
     "metadata": {},
     "output_type": "display_data"
    }
   ],
   "source": [
    "charged_rets = data[data.loan_status == 'Charged Off']['return'].tolist()\n",
    "plt.hist(charged_rets)"
   ]
  },
  {
   "cell_type": "code",
   "execution_count": 31,
   "metadata": {},
   "outputs": [
    {
     "data": {
      "text/plain": [
       "(array([ 14.,  29.,  30.,  43.,  36.,  29.,  24.,   7.,   9.,   4.]),\n",
       " array([-1.        , -0.86804043, -0.73608085, -0.60412128, -0.4721617 ,\n",
       "        -0.34020213, -0.20824256, -0.07628298,  0.05567659,  0.18763617,\n",
       "         0.31959574]),\n",
       " <a list of 10 Patch objects>)"
      ]
     },
     "execution_count": 31,
     "metadata": {},
     "output_type": "execute_result"
    },
    {
     "data": {
      "image/png": "[encoded data removed]",
      "text/plain": [
       "<matplotlib.figure.Figure at 0x11133b080>"
      ]
     },
     "metadata": {},
     "output_type": "display_data"
    }
   ],
   "source": [
    "default_rets = data[data.loan_status == 'Default']['return'].tolist()\n",
    "plt.hist(default_rets)"
   ]
  },
  {
   "cell_type": "code",
   "execution_count": 32,
   "metadata": {},
   "outputs": [
    {
     "data": {
      "text/plain": [
       "(array([ 3633.,  5716.,  7291.,  6638.,  4095.,  2532.,  1163.,   304.,\n",
       "           81.,    13.]),\n",
       " array([-1.        , -0.82935192, -0.65870384, -0.48805576, -0.31740768,\n",
       "        -0.1467596 ,  0.02388848,  0.19453656,  0.36518464,  0.53583272,\n",
       "         0.7064808 ]),\n",
       " <a list of 10 Patch objects>)"
      ]
     },
     "execution_count": 32,
     "metadata": {},
     "output_type": "execute_result"
    },
    {
     "data": {
      "image/png": "[encoded data removed]",
      "text/plain": [
       "<matplotlib.figure.Figure at 0x11282cd68>"
      ]
     },
     "metadata": {},
     "output_type": "display_data"
    }
   ],
   "source": [
    "late_rets = data[data.loan_status.str.contains('Late')]['return'].tolist()\n",
    "plt.hist(late_rets)"
   ]
  },
  {
   "cell_type": "code",
   "execution_count": null,
   "metadata": {},
   "outputs": [],
   "source": [
    "grace_rets = data[data.loan_status.str.contains('Grace')]['return'].tolist()\n",
    "plt.hist(grace_rets)"
   ]
  },
  {
   "cell_type": "markdown",
   "metadata": {},
   "source": [
    "# Pure regression model"
   ]
  },
  {
   "cell_type": "markdown",
   "metadata": {},
   "source": [
    "We directly fit the return of a loan during training time. After each training epoch, we run validation on the validation set: We pick top 1000 loans with highest predicted return and calculate their actual return. We save the model that achieved highest return on validation set and test its performance using the testing set."
   ]
  },
  {
   "cell_type": "markdown",
   "metadata": {},
   "source": [
    "## MSE Loss"
   ]
  },
  {
   "cell_type": "code",
   "execution_count": 95,
   "metadata": {},
   "outputs": [
    {
     "data": {
      "image/png": "[encoded data removed]",
      "text/plain": [
       "<matplotlib.figure.Figure at 0x1353fbf98>"
      ]
     },
     "metadata": {},
     "output_type": "display_data"
    }
   ],
   "source": [
    "f = open('output/mse.out', 'r')\n",
    "exp_ret = []\n",
    "med_ret = []\n",
    "std_ret = []\n",
    "epoch = []\n",
    "for line in f:\n",
    "    if 'Best' in line:\n",
    "        line = line.split()\n",
    "        exp_ret.append(float(line[3][:-1]))\n",
    "        med_ret.append(float(line[5][:-1]))\n",
    "        std_ret.append(float(line[7][:-1]))\n",
    "        epoch.append(int(line[10][:-1]))\n",
    "f.close()\n",
    "x_ticks = list(range(10))\n",
    "x_value = [10, 20, 30, 40, 50, 60, 70, 80, 90, 100]\n",
    "fig = plt.figure()\n",
    "plt.plot(x_ticks, exp_ret, label='Expected Return', color = 'r')\n",
    "plt.plot(x_ticks, med_ret, label='Median Return', color = 'b')\n",
    "plt.plot(x_ticks, std_ret, label='Return Std', color = 'y')\n",
    "plt.xlabel('Hidden Dimension', fontsize=15)\n",
    "plt.ylabel('Return', fontsize=15)\n",
    "plt.xticks(x_ticks, x_value)\n",
    "plt.legend(loc='best')\n",
    "plt.title('Experimenting number of hidden units with mse loss')\n",
    "plt.ylim([0,1])\n",
    "plt.show()\n",
    "#fig.savefig('mse.jpg')"
   ]
  },
  {
   "cell_type": "markdown",
   "metadata": {},
   "source": [
    "## L1Loss"
   ]
  },
  {
   "cell_type": "code",
   "execution_count": 96,
   "metadata": {},
   "outputs": [
    {
     "data": {
      "image/png": "[encoded data removed]",
      "text/plain": [
       "<matplotlib.figure.Figure at 0x11987a358>"
      ]
     },
     "metadata": {},
     "output_type": "display_data"
    }
   ],
   "source": [
    "f = open('output/l1.out', 'r')\n",
    "exp_ret = []\n",
    "med_ret = []\n",
    "std_ret = []\n",
    "epoch = []\n",
    "for line in f:\n",
    "    if 'Best' in line:\n",
    "        line = line.split()\n",
    "        exp_ret.append(float(line[3][:-1]))\n",
    "        med_ret.append(float(line[5][:-1]))\n",
    "        std_ret.append(float(line[7][:-1]))\n",
    "        epoch.append(int(line[10][:-1]))\n",
    "f.close()\n",
    "x_ticks = list(range(10))\n",
    "x_value = [10, 20, 30, 40, 50, 60, 70, 80, 90, 100]\n",
    "fig = plt.figure()\n",
    "plt.plot(x_ticks, exp_ret, label='Expected Return', color = 'r')\n",
    "plt.plot(x_ticks, med_ret, label='Median Return', color = 'b')\n",
    "plt.plot(x_ticks, std_ret, label='Return Std', color = 'y')\n",
    "plt.xlabel('Hidden Dimension', fontsize=15)\n",
    "plt.ylabel('Return', fontsize=15)\n",
    "plt.xticks(x_ticks, x_value)\n",
    "plt.legend(loc='best')\n",
    "plt.title('Experimenting number of hidden units with l1 loss')\n",
    "plt.ylim([0,1])\n",
    "plt.show()\n",
    "#fig.savefig('l1.jpg')"
   ]
  },
  {
   "cell_type": "code",
   "execution_count": 94,
   "metadata": {},
   "outputs": [
    {
     "data": {
      "text/plain": [
       "[193, 200, 18, 164, 171, 176, 130, 197, 124, 195]"
      ]
     },
     "execution_count": 94,
     "metadata": {},
     "output_type": "execute_result"
    }
   ],
   "source": [
    "epoch"
   ]
  },
  {
   "cell_type": "markdown",
   "metadata": {},
   "source": [
    "# Pure classification model"
   ]
  },
  {
   "cell_type": "markdown",
   "metadata": {},
   "source": [
    "During training time We predict the probability of default and pick the "
   ]
  },
  {
   "cell_type": "markdown",
   "metadata": {},
   "source": [
    "# Classification + conditional regression"
   ]
  },
  {
   "cell_type": "markdown",
   "metadata": {},
   "source": [
    "We make decision in two steps:"
   ]
  },
  {
   "cell_type": "markdown",
   "metadata": {},
   "source": [
    "## question to ask: how to calculate expected return"
   ]
  },
  {
   "cell_type": "markdown",
   "metadata": {},
   "source": [
    "Given a new data point, we want to calculate its expected return"
   ]
  },
  {
   "cell_type": "code",
   "execution_count": 44,
   "metadata": {},
   "outputs": [],
   "source": [
    "paid_data = data[data.loan_status == 'Fully Paid']"
   ]
  },
  {
   "cell_type": "code",
   "execution_count": 76,
   "metadata": {},
   "outputs": [],
   "source": [
    "instl = np.array(paid_data.installment)\n",
    "term = np.array([int(item[1:3]) for item in paid_data.term])\n",
    "duration = np.array((paid_data.last_pymnt_d.values.astype('datetime64[M]') - paid_data.issue_d.values.astype('datetime64[M]')) / np.timedelta64(1, 'M') )\n",
    "rets = np.array((paid_data.total_pymnt - paid_data.funded_amnt) / paid_data.funded_amnt)\n",
    "amnt = np.array(paid_data.funded_amnt)\n",
    "inrt = np.array(paid_data.int_rate)"
   ]
  },
  {
   "cell_type": "markdown",
   "metadata": {},
   "source": [
    "### Method 1: $ \\text{return} = \\frac{\\text{term} * \\text{installment} - \\text{funded amount}}{\\text{funded amount}}$"
   ]
  },
  {
   "cell_type": "code",
   "execution_count": 77,
   "metadata": {},
   "outputs": [
    {
     "name": "stdout",
     "output_type": "stream",
     "text": [
      "0.105507622915 0.0631368391071\n"
     ]
    }
   ],
   "source": [
    "est_rets = np.divide(np.multiply(term, instl) - amnt, amnt)\n",
    "diff = np.abs(est_rets - rets)\n",
    "print(np.mean(diff), np.median(diff))"
   ]
  },
  {
   "cell_type": "markdown",
   "metadata": {},
   "source": [
    "### Method 2: $ \\text{return} = \\frac{\\text{duration} * \\text{installment} - \\text{funded amount}}{\\text{funded amount}}$"
   ]
  },
  {
   "cell_type": "code",
   "execution_count": 80,
   "metadata": {},
   "outputs": [
    {
     "name": "stdout",
     "output_type": "stream",
     "text": [
      "0.523598849175 0.591726401152\n"
     ]
    }
   ],
   "source": [
    "est_rets = np.divide(np.multiply(duration, instl) - amnt, amnt)\n",
    "diff = np.abs(est_rets - rets)\n",
    "print(np.mean(diff), np.median(diff))"
   ]
  },
  {
   "cell_type": "markdown",
   "metadata": {},
   "source": [
    "### Method 3: $ \\text{return} = \\frac{\\text{interest rate} * \\text{duration}}{12}$"
   ]
  },
  {
   "cell_type": "code",
   "execution_count": 79,
   "metadata": {},
   "outputs": [
    {
     "name": "stdout",
     "output_type": "stream",
     "text": [
      "0.0647769673617 0.0351846933066\n"
     ]
    }
   ],
   "source": [
    "est_rets = np.multiply(inrt, duration / 12)\n",
    "diff = np.abs(est_rets - rets)\n",
    "print(np.mean(diff), np.median(diff))"
   ]
  },
  {
   "cell_type": "markdown",
   "metadata": {},
   "source": [
    "### Method 4: $ \\text{return} = \\frac{\\text{interest rate} * \\text{term}}{12}$"
   ]
  },
  {
   "cell_type": "code",
   "execution_count": 83,
   "metadata": {},
   "outputs": [
    {
     "name": "stdout",
     "output_type": "stream",
     "text": [
      "0.306026559815 0.235962506132\n"
     ]
    }
   ],
   "source": [
    "est_rets = np.multiply(inrt, term / 12)\n",
    "diff = np.abs(est_rets - rets)\n",
    "print(np.mean(diff), np.median(diff))"
   ]
  },
  {
   "cell_type": "code",
   "execution_count": null,
   "metadata": {},
   "outputs": [],
   "source": []
  }
 ],
 "metadata": {
  "kernelspec": {
   "display_name": "Python 3",
   "language": "python",
   "name": "python3"
  },
  "language_info": {
   "codemirror_mode": {
    "name": "ipython",
    "version": 3
   },
   "file_extension": ".py",
   "mimetype": "text/x-python",
   "name": "python",
   "nbconvert_exporter": "python",
   "pygments_lexer": "ipython3",
   "version": "3.6.3"
  }
 },
 "nbformat": 4,
 "nbformat_minor": 2
}
